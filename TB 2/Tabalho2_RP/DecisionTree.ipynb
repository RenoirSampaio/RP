{
  "nbformat": 4,
  "nbformat_minor": 0,
  "metadata": {
    "colab": {
      "name": "Tabalho2_RP.ipynb",
      "provenance": []
    },
    "kernelspec": {
      "name": "python3",
      "display_name": "Python 3"
    }
  },
  "cells": [
    {
      "cell_type": "markdown",
      "metadata": {
        "id": "pc3vIujPptwI",
        "colab_type": "text"
      },
      "source": [
        "#**Reconhecimento de Padrões**\n",
        "\n",
        "*Trabalho 2: Classificador Árvore de Decisão*\n",
        "\n",
        "*- Renoir Sampaio (389113)*"
      ]
    },
    {
      "cell_type": "markdown",
      "metadata": {
        "id": "SzMxGjakg4iD",
        "colab_type": "text"
      },
      "source": [
        "##**Preparação dos dados**\n"
      ]
    },
    {
      "cell_type": "code",
      "metadata": {
        "id": "nLNMW1gbf0J8",
        "colab_type": "code",
        "colab": {
          "base_uri": "https://localhost:8080/",
          "height": 70
        },
        "outputId": "1e27bbc4-2e18-4057-e2a3-859c8c5caf90"
      },
      "source": [
        "# Importando bibliotecas\n",
        "import numpy as np # Algebra Linear\n",
        "import pandas as pd # Processamento de dados\n",
        "import seaborn as sns # Plotagem\n",
        "import matplotlib.pyplot as plt # Plotagem\n",
        "import math # Matemática\n",
        "from random import randint # Aleatoriedade\n",
        "from scipy.stats import skew, kurtosis, entropy"
      ],
      "execution_count": null,
      "outputs": [
        {
          "output_type": "stream",
          "text": [
            "/usr/local/lib/python3.6/dist-packages/statsmodels/tools/_testing.py:19: FutureWarning: pandas.util.testing is deprecated. Use the functions in the public API at pandas.testing instead.\n",
            "  import pandas.util.testing as tm\n"
          ],
          "name": "stderr"
        }
      ]
    },
    {
      "cell_type": "code",
      "metadata": {
        "id": "wV9FOxjsgmw8",
        "colab_type": "code",
        "colab": {}
      },
      "source": [
        "# Realiza a leitura do dataset\n",
        "df = pd.read_csv('/content/wine.csv', names = ['classe', 'alcool', 'acido_m',\n",
        "                                               'cinza', 'alcalinidade_dc',\n",
        "                                               'magnesio', 'fenois_t',\n",
        "                                               'flavonoides', 'fenois_nf',\n",
        "                                               'proantocianidinas',\n",
        "                                               'intensidade_dc', 'matriz',\n",
        "                                               'vinhos_diluidos', 'prolina'])"
      ],
      "execution_count": null,
      "outputs": []
    },
    {
      "cell_type": "code",
      "metadata": {
        "id": "BvQrpPoeg9DU",
        "colab_type": "code",
        "colab": {
          "base_uri": "https://localhost:8080/",
          "height": 402
        },
        "outputId": "515c746b-b8df-4c1c-fcfc-804ade83286c"
      },
      "source": [
        "# Visualização do dataframe\n",
        "df"
      ],
      "execution_count": null,
      "outputs": [
        {
          "output_type": "execute_result",
          "data": {
            "text/html": [
              "<div>\n",
              "<style scoped>\n",
              "    .dataframe tbody tr th:only-of-type {\n",
              "        vertical-align: middle;\n",
              "    }\n",
              "\n",
              "    .dataframe tbody tr th {\n",
              "        vertical-align: top;\n",
              "    }\n",
              "\n",
              "    .dataframe thead th {\n",
              "        text-align: right;\n",
              "    }\n",
              "</style>\n",
              "<table border=\"1\" class=\"dataframe\">\n",
              "  <thead>\n",
              "    <tr style=\"text-align: right;\">\n",
              "      <th></th>\n",
              "      <th>classe</th>\n",
              "      <th>alcool</th>\n",
              "      <th>acido_m</th>\n",
              "      <th>cinza</th>\n",
              "      <th>alcalinidade_dc</th>\n",
              "      <th>magnesio</th>\n",
              "      <th>fenois_t</th>\n",
              "      <th>flavonoides</th>\n",
              "      <th>fenois_nf</th>\n",
              "      <th>proantocianidinas</th>\n",
              "      <th>intensidade_dc</th>\n",
              "      <th>matriz</th>\n",
              "      <th>vinhos_diluidos</th>\n",
              "      <th>prolina</th>\n",
              "    </tr>\n",
              "  </thead>\n",
              "  <tbody>\n",
              "    <tr>\n",
              "      <th>0</th>\n",
              "      <td>1</td>\n",
              "      <td>14.23</td>\n",
              "      <td>1.71</td>\n",
              "      <td>2.43</td>\n",
              "      <td>15.6</td>\n",
              "      <td>127</td>\n",
              "      <td>2.80</td>\n",
              "      <td>3.06</td>\n",
              "      <td>0.28</td>\n",
              "      <td>2.29</td>\n",
              "      <td>5.64</td>\n",
              "      <td>1.04</td>\n",
              "      <td>3.92</td>\n",
              "      <td>1065</td>\n",
              "    </tr>\n",
              "    <tr>\n",
              "      <th>1</th>\n",
              "      <td>1</td>\n",
              "      <td>13.20</td>\n",
              "      <td>1.78</td>\n",
              "      <td>2.14</td>\n",
              "      <td>11.2</td>\n",
              "      <td>100</td>\n",
              "      <td>2.65</td>\n",
              "      <td>2.76</td>\n",
              "      <td>0.26</td>\n",
              "      <td>1.28</td>\n",
              "      <td>4.38</td>\n",
              "      <td>1.05</td>\n",
              "      <td>3.40</td>\n",
              "      <td>1050</td>\n",
              "    </tr>\n",
              "    <tr>\n",
              "      <th>2</th>\n",
              "      <td>1</td>\n",
              "      <td>13.16</td>\n",
              "      <td>2.36</td>\n",
              "      <td>2.67</td>\n",
              "      <td>18.6</td>\n",
              "      <td>101</td>\n",
              "      <td>2.80</td>\n",
              "      <td>3.24</td>\n",
              "      <td>0.30</td>\n",
              "      <td>2.81</td>\n",
              "      <td>5.68</td>\n",
              "      <td>1.03</td>\n",
              "      <td>3.17</td>\n",
              "      <td>1185</td>\n",
              "    </tr>\n",
              "    <tr>\n",
              "      <th>3</th>\n",
              "      <td>1</td>\n",
              "      <td>14.37</td>\n",
              "      <td>1.95</td>\n",
              "      <td>2.50</td>\n",
              "      <td>16.8</td>\n",
              "      <td>113</td>\n",
              "      <td>3.85</td>\n",
              "      <td>3.49</td>\n",
              "      <td>0.24</td>\n",
              "      <td>2.18</td>\n",
              "      <td>7.80</td>\n",
              "      <td>0.86</td>\n",
              "      <td>3.45</td>\n",
              "      <td>1480</td>\n",
              "    </tr>\n",
              "    <tr>\n",
              "      <th>4</th>\n",
              "      <td>1</td>\n",
              "      <td>13.24</td>\n",
              "      <td>2.59</td>\n",
              "      <td>2.87</td>\n",
              "      <td>21.0</td>\n",
              "      <td>118</td>\n",
              "      <td>2.80</td>\n",
              "      <td>2.69</td>\n",
              "      <td>0.39</td>\n",
              "      <td>1.82</td>\n",
              "      <td>4.32</td>\n",
              "      <td>1.04</td>\n",
              "      <td>2.93</td>\n",
              "      <td>735</td>\n",
              "    </tr>\n",
              "    <tr>\n",
              "      <th>...</th>\n",
              "      <td>...</td>\n",
              "      <td>...</td>\n",
              "      <td>...</td>\n",
              "      <td>...</td>\n",
              "      <td>...</td>\n",
              "      <td>...</td>\n",
              "      <td>...</td>\n",
              "      <td>...</td>\n",
              "      <td>...</td>\n",
              "      <td>...</td>\n",
              "      <td>...</td>\n",
              "      <td>...</td>\n",
              "      <td>...</td>\n",
              "      <td>...</td>\n",
              "    </tr>\n",
              "    <tr>\n",
              "      <th>173</th>\n",
              "      <td>3</td>\n",
              "      <td>13.71</td>\n",
              "      <td>5.65</td>\n",
              "      <td>2.45</td>\n",
              "      <td>20.5</td>\n",
              "      <td>95</td>\n",
              "      <td>1.68</td>\n",
              "      <td>0.61</td>\n",
              "      <td>0.52</td>\n",
              "      <td>1.06</td>\n",
              "      <td>7.70</td>\n",
              "      <td>0.64</td>\n",
              "      <td>1.74</td>\n",
              "      <td>740</td>\n",
              "    </tr>\n",
              "    <tr>\n",
              "      <th>174</th>\n",
              "      <td>3</td>\n",
              "      <td>13.40</td>\n",
              "      <td>3.91</td>\n",
              "      <td>2.48</td>\n",
              "      <td>23.0</td>\n",
              "      <td>102</td>\n",
              "      <td>1.80</td>\n",
              "      <td>0.75</td>\n",
              "      <td>0.43</td>\n",
              "      <td>1.41</td>\n",
              "      <td>7.30</td>\n",
              "      <td>0.70</td>\n",
              "      <td>1.56</td>\n",
              "      <td>750</td>\n",
              "    </tr>\n",
              "    <tr>\n",
              "      <th>175</th>\n",
              "      <td>3</td>\n",
              "      <td>13.27</td>\n",
              "      <td>4.28</td>\n",
              "      <td>2.26</td>\n",
              "      <td>20.0</td>\n",
              "      <td>120</td>\n",
              "      <td>1.59</td>\n",
              "      <td>0.69</td>\n",
              "      <td>0.43</td>\n",
              "      <td>1.35</td>\n",
              "      <td>10.20</td>\n",
              "      <td>0.59</td>\n",
              "      <td>1.56</td>\n",
              "      <td>835</td>\n",
              "    </tr>\n",
              "    <tr>\n",
              "      <th>176</th>\n",
              "      <td>3</td>\n",
              "      <td>13.17</td>\n",
              "      <td>2.59</td>\n",
              "      <td>2.37</td>\n",
              "      <td>20.0</td>\n",
              "      <td>120</td>\n",
              "      <td>1.65</td>\n",
              "      <td>0.68</td>\n",
              "      <td>0.53</td>\n",
              "      <td>1.46</td>\n",
              "      <td>9.30</td>\n",
              "      <td>0.60</td>\n",
              "      <td>1.62</td>\n",
              "      <td>840</td>\n",
              "    </tr>\n",
              "    <tr>\n",
              "      <th>177</th>\n",
              "      <td>3</td>\n",
              "      <td>14.13</td>\n",
              "      <td>4.10</td>\n",
              "      <td>2.74</td>\n",
              "      <td>24.5</td>\n",
              "      <td>96</td>\n",
              "      <td>2.05</td>\n",
              "      <td>0.76</td>\n",
              "      <td>0.56</td>\n",
              "      <td>1.35</td>\n",
              "      <td>9.20</td>\n",
              "      <td>0.61</td>\n",
              "      <td>1.60</td>\n",
              "      <td>560</td>\n",
              "    </tr>\n",
              "  </tbody>\n",
              "</table>\n",
              "<p>178 rows × 14 columns</p>\n",
              "</div>"
            ],
            "text/plain": [
              "     classe  alcool  acido_m  ...  matriz  vinhos_diluidos  prolina\n",
              "0         1   14.23     1.71  ...    1.04             3.92     1065\n",
              "1         1   13.20     1.78  ...    1.05             3.40     1050\n",
              "2         1   13.16     2.36  ...    1.03             3.17     1185\n",
              "3         1   14.37     1.95  ...    0.86             3.45     1480\n",
              "4         1   13.24     2.59  ...    1.04             2.93      735\n",
              "..      ...     ...      ...  ...     ...              ...      ...\n",
              "173       3   13.71     5.65  ...    0.64             1.74      740\n",
              "174       3   13.40     3.91  ...    0.70             1.56      750\n",
              "175       3   13.27     4.28  ...    0.59             1.56      835\n",
              "176       3   13.17     2.59  ...    0.60             1.62      840\n",
              "177       3   14.13     4.10  ...    0.61             1.60      560\n",
              "\n",
              "[178 rows x 14 columns]"
            ]
          },
          "metadata": {
            "tags": []
          },
          "execution_count": 4
        }
      ]
    },
    {
      "cell_type": "code",
      "metadata": {
        "id": "DrOxk731G0j4",
        "colab_type": "code",
        "colab": {}
      },
      "source": [
        "# Entropia total da base de dados\n",
        "entropy_total_base = (-(59/178)*math.log(59/178)-(71/178)*math.log(71/178)\n",
        "                      -(48/178)*math.log(48/178))"
      ],
      "execution_count": null,
      "outputs": []
    },
    {
      "cell_type": "code",
      "metadata": {
        "id": "oTSXfjCNHZL1",
        "colab_type": "code",
        "colab": {
          "base_uri": "https://localhost:8080/",
          "height": 34
        },
        "outputId": "db335984-9988-4d4f-b702-fab195050864"
      },
      "source": [
        "entropy_total_base"
      ],
      "execution_count": null,
      "outputs": [
        {
          "output_type": "execute_result",
          "data": {
            "text/plain": [
              "1.086038443640683"
            ]
          },
          "metadata": {
            "tags": []
          },
          "execution_count": 9
        }
      ]
    },
    {
      "cell_type": "markdown",
      "metadata": {
        "id": "ct92D4dl7ZYK",
        "colab_type": "text"
      },
      "source": [
        "## **Fase de cálculo e demonstração das entropias**"
      ]
    },
    {
      "cell_type": "markdown",
      "metadata": {
        "id": "L0uWvB6oCaaA",
        "colab_type": "text"
      },
      "source": [
        "Nota: Os valores calculados em cada uma das entropias segue a mesma lógica mostrada em aula. Variando apenas com o teta que será o limiar e que por tanto modifica o valor nos cálculos."
      ]
    },
    {
      "cell_type": "code",
      "metadata": {
        "id": "-VJh1UmbJS2A",
        "colab_type": "code",
        "colab": {}
      },
      "source": [
        "# Separando atributo desejado para cálculo da entropia\n",
        "h_1 = df[['classe', 'prolina']]"
      ],
      "execution_count": null,
      "outputs": []
    },
    {
      "cell_type": "code",
      "metadata": {
        "id": "GFHjKq_HOlf6",
        "colab_type": "code",
        "colab": {}
      },
      "source": [
        "# Ordenação dos valores para encontrar limiar\n",
        "h_1_sorted = h_1.sort_values(['prolina'])"
      ],
      "execution_count": null,
      "outputs": []
    },
    {
      "cell_type": "code",
      "metadata": {
        "id": "ReTMBPxQWLx6",
        "colab_type": "code",
        "colab": {
          "base_uri": "https://localhost:8080/",
          "height": 84
        },
        "outputId": "5abc9d4d-3432-45a6-acd8-ef17a3a3e6a5"
      },
      "source": [
        "# Mostrando quantidade de valores selecionados que serão usados no cálculo da\n",
        "# entropia\n",
        "y = len(h_1_sorted.loc[h_1_sorted['prolina'] >= 990])\n",
        "print(y)\n",
        "\n",
        "x = len(h_1_sorted.loc[(h_1_sorted['prolina'] < 990) &\n",
        "                       (h_1_sorted['classe'] != 1)])\n",
        "print(x)\n",
        "\n",
        "print(178-y)\n",
        "print(178-y-x)"
      ],
      "execution_count": null,
      "outputs": [
        {
          "output_type": "stream",
          "text": [
            "44\n",
            "119\n",
            "134\n",
            "15\n"
          ],
          "name": "stdout"
        }
      ]
    },
    {
      "cell_type": "code",
      "metadata": {
        "id": "ajZuIHioiE-T",
        "colab_type": "code",
        "colab": {}
      },
      "source": [
        "# Entropia do atributo 'prolina'\n",
        "entropy_prolina = (-(15/134)*math.log(15/134)-(119/134)*math.log(119/134))\n",
        "entropy_prolina = ((134/178)*entropy_prolina)"
      ],
      "execution_count": null,
      "outputs": []
    },
    {
      "cell_type": "code",
      "metadata": {
        "id": "Z8Q9f9Q-pSHE",
        "colab_type": "code",
        "colab": {
          "base_uri": "https://localhost:8080/",
          "height": 34
        },
        "outputId": "dd28d15f-ab3b-4bd1-a672-0c1bf0e0eb51"
      },
      "source": [
        "entropy_prolina"
      ],
      "execution_count": null,
      "outputs": [
        {
          "output_type": "execute_result",
          "data": {
            "text/plain": [
              "0.26389935110458973"
            ]
          },
          "metadata": {
            "tags": []
          },
          "execution_count": 14
        }
      ]
    },
    {
      "cell_type": "code",
      "metadata": {
        "colab_type": "code",
        "id": "e6hxmH5Wp4UR",
        "colab": {}
      },
      "source": [
        "# Separando atributo desejado para cálculo da entropia\n",
        "h_2 = df[['classe', 'magnesio']]"
      ],
      "execution_count": null,
      "outputs": []
    },
    {
      "cell_type": "code",
      "metadata": {
        "colab_type": "code",
        "id": "smXQeUNWp4Ua",
        "colab": {}
      },
      "source": [
        "# Ordenação dos valores para encontrar limiar\n",
        "h_2_sorted = h_2.sort_values(['magnesio'])"
      ],
      "execution_count": null,
      "outputs": []
    },
    {
      "cell_type": "code",
      "metadata": {
        "colab_type": "code",
        "id": "AQBqQBmYp4Uc",
        "colab": {
          "base_uri": "https://localhost:8080/",
          "height": 84
        },
        "outputId": "077754d4-5b54-4164-9d80-8c89b319cccb"
      },
      "source": [
        "# Mostrando quantidade de valores selecionados que serão usados no cálculo da\n",
        "# entropia\n",
        "y = len(h_2_sorted.loc[h_2_sorted['magnesio'] > 132])\n",
        "print(y)\n",
        "\n",
        "x = len(h_2_sorted.loc[(h_2_sorted['magnesio'] <= 132) &\n",
        "                       (h_2_sorted['classe'] != 2)])\n",
        "print(x)\n",
        "\n",
        "print(178-y)\n",
        "print(178-y-x)"
      ],
      "execution_count": null,
      "outputs": [
        {
          "output_type": "stream",
          "text": [
            "5\n",
            "107\n",
            "173\n",
            "66\n"
          ],
          "name": "stdout"
        }
      ]
    },
    {
      "cell_type": "code",
      "metadata": {
        "colab_type": "code",
        "id": "woPZfktcp4Uf",
        "colab": {}
      },
      "source": [
        "# Entropia do atributo 'magnesio'\n",
        "entropy_magnesio = (-(66/173)*math.log(66/173)-(107/173)*math.log(107/173))\n",
        "entropy_magnesio = ((173/178)*entropy_magnesio)"
      ],
      "execution_count": null,
      "outputs": []
    },
    {
      "cell_type": "code",
      "metadata": {
        "colab_type": "code",
        "id": "MJdxS0zzp4Uh",
        "colab": {
          "base_uri": "https://localhost:8080/",
          "height": 34
        },
        "outputId": "e63c228e-a91a-473b-a9a5-9fcb7edd1eff"
      },
      "source": [
        "entropy_magnesio"
      ],
      "execution_count": null,
      "outputs": [
        {
          "output_type": "execute_result",
          "data": {
            "text/plain": [
              "0.6461210538592568"
            ]
          },
          "metadata": {
            "tags": []
          },
          "execution_count": 19
        }
      ]
    },
    {
      "cell_type": "code",
      "metadata": {
        "colab_type": "code",
        "id": "vrEaI7EUt1Et",
        "colab": {}
      },
      "source": [
        "# Separando atributo desejado para cálculo da entropia\n",
        "h_3 = df[['classe', 'intensidade_dc']]"
      ],
      "execution_count": null,
      "outputs": []
    },
    {
      "cell_type": "code",
      "metadata": {
        "colab_type": "code",
        "id": "6V0YFJtit1Ex",
        "colab": {}
      },
      "source": [
        "# Ordenação dos valores para encontrar limiar\n",
        "h_3_sorted = h_3.sort_values(['intensidade_dc'])"
      ],
      "execution_count": null,
      "outputs": []
    },
    {
      "cell_type": "code",
      "metadata": {
        "colab_type": "code",
        "id": "ZbJtCFrNxug1",
        "colab": {
          "base_uri": "https://localhost:8080/",
          "height": 84
        },
        "outputId": "614d180d-5fbb-48d5-d31a-5660751e3c18"
      },
      "source": [
        "# Mostrando quantidade de valores selecionados que serão usados no cálculo da\n",
        "# entropia\n",
        "y = len(h_3_sorted.loc[h_3_sorted['intensidade_dc'] < 3.52])\n",
        "print(y)\n",
        "\n",
        "x = len(h_3_sorted.loc[(h_3_sorted['intensidade_dc'] >= 3.52) &\n",
        "                       (h_3_sorted['classe'] != 2)])\n",
        "print(x)\n",
        "\n",
        "print(178-y)\n",
        "print(178-y-x)"
      ],
      "execution_count": null,
      "outputs": [
        {
          "output_type": "stream",
          "text": [
            "55\n",
            "107\n",
            "123\n",
            "16\n"
          ],
          "name": "stdout"
        }
      ]
    },
    {
      "cell_type": "code",
      "metadata": {
        "colab_type": "code",
        "id": "5GM5gRiPyFUp",
        "colab": {}
      },
      "source": [
        "# Entropia do atributo 'intensidade_dc'\n",
        "entropy_intensidade_dc1 = (-(16/123)*math.log(16/123)-(107/123)*math.log(107/123))\n",
        "entropy_intensidade_dc1 = ((123/178)*entropy_intensidade_dc1)"
      ],
      "execution_count": null,
      "outputs": []
    },
    {
      "cell_type": "code",
      "metadata": {
        "colab_type": "code",
        "id": "NRozX8PdyGlu",
        "colab": {
          "base_uri": "https://localhost:8080/",
          "height": 34
        },
        "outputId": "e1ffc1ce-33f2-4cb8-d0b6-7ca8e27c752e"
      },
      "source": [
        "entropy_intensidade_dc1"
      ],
      "execution_count": null,
      "outputs": [
        {
          "output_type": "execute_result",
          "data": {
            "text/plain": [
              "0.26710433071655565"
            ]
          },
          "metadata": {
            "tags": []
          },
          "execution_count": 24
        }
      ]
    },
    {
      "cell_type": "code",
      "metadata": {
        "colab_type": "code",
        "id": "z-c3gKXKt1Ez",
        "colab": {
          "base_uri": "https://localhost:8080/",
          "height": 84
        },
        "outputId": "9eaf44c3-114d-4e13-8400-f9eb740c2574"
      },
      "source": [
        "# Mostrando quantidade de valores selecionados que serão usados no cálculo da\n",
        "# entropia\n",
        "y = len(h_3_sorted.loc[h_3_sorted['intensidade_dc'] > 8.9])\n",
        "print(y)\n",
        "\n",
        "x = len(h_3_sorted.loc[(h_3_sorted['intensidade_dc'] <= 8.9) &\n",
        "                       (h_3_sorted['classe'] != 3)])\n",
        "print(x)\n",
        "\n",
        "print(178-y)\n",
        "print(178-y-x)"
      ],
      "execution_count": null,
      "outputs": [
        {
          "output_type": "stream",
          "text": [
            "14\n",
            "130\n",
            "164\n",
            "34\n"
          ],
          "name": "stdout"
        }
      ]
    },
    {
      "cell_type": "code",
      "metadata": {
        "colab_type": "code",
        "id": "8rVcDP47t1E1",
        "colab": {}
      },
      "source": [
        "# Entropia do atributo 'intensidade_dc'\n",
        "entropy_intensidade_dc2 = (-(34/164)*math.log(34/164)-(130/164)*math.log(130/164))\n",
        "entropy_intensidade_dc2 = ((164/178)*entropy_intensidade_dc2)"
      ],
      "execution_count": null,
      "outputs": []
    },
    {
      "cell_type": "code",
      "metadata": {
        "colab_type": "code",
        "id": "fsuKoHgCt1E4",
        "colab": {
          "base_uri": "https://localhost:8080/",
          "height": 34
        },
        "outputId": "2e4cd6dc-4968-4f0f-f60d-9d1cec51ea50"
      },
      "source": [
        "entropy_intensidade_dc2"
      ],
      "execution_count": null,
      "outputs": [
        {
          "output_type": "execute_result",
          "data": {
            "text/plain": [
              "0.4702379649831087"
            ]
          },
          "metadata": {
            "tags": []
          },
          "execution_count": 27
        }
      ]
    },
    {
      "cell_type": "code",
      "metadata": {
        "colab_type": "code",
        "id": "FX1UTAOizeBC",
        "colab": {}
      },
      "source": [
        "# Separando atributo desejado para cálculo da entropia\n",
        "h_4 = df[['classe', 'acido_m']]"
      ],
      "execution_count": null,
      "outputs": []
    },
    {
      "cell_type": "code",
      "metadata": {
        "colab_type": "code",
        "id": "abg2IfKFzeBH",
        "colab": {}
      },
      "source": [
        "# Ordenação dos valores para encontrar limiar\n",
        "h_4_sorted = h_4.sort_values(['acido_m'])"
      ],
      "execution_count": null,
      "outputs": []
    },
    {
      "cell_type": "code",
      "metadata": {
        "colab_type": "code",
        "id": "cYHSHLWfzeBJ",
        "colab": {
          "base_uri": "https://localhost:8080/",
          "height": 84
        },
        "outputId": "2e98553a-2c87-4f1c-a447-07278cd05830"
      },
      "source": [
        "# Mostrando quantidade de valores selecionados que serão usados no cálculo da\n",
        "# entropia\n",
        "y = len(h_4_sorted.loc[h_4_sorted['acido_m'] < 1.24])\n",
        "print(y)\n",
        "\n",
        "x = len(h_4_sorted.loc[(h_4_sorted['acido_m'] >= 1.24) &\n",
        "                       (h_4_sorted['classe'] != 2)])\n",
        "print(x)\n",
        "\n",
        "print(178-y)\n",
        "print(178-y-x)"
      ],
      "execution_count": null,
      "outputs": [
        {
          "output_type": "stream",
          "text": [
            "17\n",
            "107\n",
            "161\n",
            "54\n"
          ],
          "name": "stdout"
        }
      ]
    },
    {
      "cell_type": "code",
      "metadata": {
        "colab_type": "code",
        "id": "TVrtSs_jzeBL",
        "colab": {}
      },
      "source": [
        "# Entropia do atributo 'acido_m'\n",
        "entropy_acido_m = (-(54/161)*math.log(54/161)-(107/161)*math.log(107/161))\n",
        "entropy_acido_m = ((161/178)*entropy_acido_m)"
      ],
      "execution_count": null,
      "outputs": []
    },
    {
      "cell_type": "code",
      "metadata": {
        "colab_type": "code",
        "id": "Rqi_HRTOzeBN",
        "colab": {
          "base_uri": "https://localhost:8080/",
          "height": 34
        },
        "outputId": "a4a77c88-f95d-48c0-a1ce-63ae38dec8f2"
      },
      "source": [
        "entropy_acido_m"
      ],
      "execution_count": null,
      "outputs": [
        {
          "output_type": "execute_result",
          "data": {
            "text/plain": [
              "0.5770128031494594"
            ]
          },
          "metadata": {
            "tags": []
          },
          "execution_count": 32
        }
      ]
    },
    {
      "cell_type": "code",
      "metadata": {
        "colab_type": "code",
        "id": "y6RIs3Dv1sBc",
        "colab": {}
      },
      "source": [
        "# Separando atributo desejado para cálculo da entropia\n",
        "h_5 = df[['classe', 'flavonoides']]"
      ],
      "execution_count": null,
      "outputs": []
    },
    {
      "cell_type": "code",
      "metadata": {
        "colab_type": "code",
        "id": "TdnxVRve1sBf",
        "colab": {}
      },
      "source": [
        "# Ordenação dos valores para encontrar limiar\n",
        "h_5_sorted = h_5.sort_values(['flavonoides'])"
      ],
      "execution_count": null,
      "outputs": []
    },
    {
      "cell_type": "code",
      "metadata": {
        "colab_type": "code",
        "id": "4lWTThCw1sBj",
        "colab": {
          "base_uri": "https://localhost:8080/",
          "height": 84
        },
        "outputId": "ee61246c-a4b3-4761-f46d-3ea6efdbfa2c"
      },
      "source": [
        "# Mostrando quantidade de valores selecionados que serão usados no cálculo da\n",
        "# entropia\n",
        "y = len(h_5_sorted.loc[h_5_sorted['flavonoides'] < 0.57])\n",
        "print(y)\n",
        "\n",
        "x = len(h_5_sorted.loc[(h_5_sorted['flavonoides'] >= 0.57) &\n",
        "                       (h_5_sorted['classe'] != 3)])\n",
        "print(x)\n",
        "\n",
        "print(178-y)\n",
        "print(178-y-x)"
      ],
      "execution_count": null,
      "outputs": [
        {
          "output_type": "stream",
          "text": [
            "11\n",
            "130\n",
            "167\n",
            "37\n"
          ],
          "name": "stdout"
        }
      ]
    },
    {
      "cell_type": "code",
      "metadata": {
        "colab_type": "code",
        "id": "egV-Uqev1sBl",
        "colab": {}
      },
      "source": [
        "# Entropia do atributo 'flavonoides'\n",
        "entropy_flavonoides = (-(37/167)*math.log(37/167)-(130/167)*math.log(130/167))\n",
        "entropy_flavonoides = ((167/178)*entropy_flavonoides)"
      ],
      "execution_count": null,
      "outputs": []
    },
    {
      "cell_type": "code",
      "metadata": {
        "colab_type": "code",
        "id": "EforsoPm1sBn",
        "colab": {
          "base_uri": "https://localhost:8080/",
          "height": 34
        },
        "outputId": "897721c2-819e-43ec-9884-fb081ee2aa26"
      },
      "source": [
        "entropy_flavonoides"
      ],
      "execution_count": null,
      "outputs": [
        {
          "output_type": "execute_result",
          "data": {
            "text/plain": [
              "0.4961883446434611"
            ]
          },
          "metadata": {
            "tags": []
          },
          "execution_count": 368
        }
      ]
    },
    {
      "cell_type": "code",
      "metadata": {
        "colab_type": "code",
        "id": "qeXYQZGb4aZ6",
        "colab": {}
      },
      "source": [
        "# Separando atributo desejado para cálculo da entropia\n",
        "h_6 = df[['classe', 'alcalinidade_dc']]"
      ],
      "execution_count": null,
      "outputs": []
    },
    {
      "cell_type": "code",
      "metadata": {
        "colab_type": "code",
        "id": "IwuCKiAk4aZ9",
        "colab": {}
      },
      "source": [
        "# Ordenação dos valores para encontrar limiar\n",
        "h_6_sorted = h_6.sort_values(['alcalinidade_dc'])"
      ],
      "execution_count": null,
      "outputs": []
    },
    {
      "cell_type": "code",
      "metadata": {
        "colab_type": "code",
        "id": "wgqs26q04aaB",
        "colab": {
          "base_uri": "https://localhost:8080/",
          "height": 84
        },
        "outputId": "66bb850d-ebda-4c06-8ff5-24d2b2e4825b"
      },
      "source": [
        "# Mostrando quantidade de valores selecionados que serão usados no cálculo da\n",
        "# entropia\n",
        "y = len(h_6_sorted.loc[h_6_sorted['alcalinidade_dc'] < 17.5])\n",
        "print(y)\n",
        "\n",
        "x = len(h_6_sorted.loc[(h_6_sorted['alcalinidade_dc'] >= 17.5) &\n",
        "                       (h_6_sorted['classe'] != 1)])\n",
        "print(x)\n",
        "\n",
        "print(178-y)\n",
        "print(178-y-x)"
      ],
      "execution_count": null,
      "outputs": [
        {
          "output_type": "stream",
          "text": [
            "48\n",
            "108\n",
            "130\n",
            "22\n"
          ],
          "name": "stdout"
        }
      ]
    },
    {
      "cell_type": "code",
      "metadata": {
        "colab_type": "code",
        "id": "c7zXTBKN4aaD",
        "colab": {}
      },
      "source": [
        "# Entropia do atributo 'alcalinidade_dc'\n",
        "entropy_alcalinidade_dc = (-(22/130)*math.log(22/130)-(108/130)*math.log(108/130))\n",
        "entropy_alcalinidade_dc = ((130/178)*entropy_alcalinidade_dc)"
      ],
      "execution_count": null,
      "outputs": []
    },
    {
      "cell_type": "code",
      "metadata": {
        "colab_type": "code",
        "id": "GOZ5FSAc4aaF",
        "colab": {
          "base_uri": "https://localhost:8080/",
          "height": 34
        },
        "outputId": "431cda6e-8cd7-4982-e417-d6fcfd170dbd"
      },
      "source": [
        "entropy_alcalinidade_dc"
      ],
      "execution_count": null,
      "outputs": [
        {
          "output_type": "execute_result",
          "data": {
            "text/plain": [
              "0.3320582699771182"
            ]
          },
          "metadata": {
            "tags": []
          },
          "execution_count": 386
        }
      ]
    },
    {
      "cell_type": "code",
      "metadata": {
        "colab_type": "code",
        "id": "yYAmQ6bmQzO3",
        "colab": {}
      },
      "source": [
        "# Separando atributo desejado para cálculo da entropia\n",
        "h_7 = df[['classe', 'vinhos_diluidos']]"
      ],
      "execution_count": null,
      "outputs": []
    },
    {
      "cell_type": "code",
      "metadata": {
        "colab_type": "code",
        "id": "nwDDnh-AQzO7",
        "colab": {}
      },
      "source": [
        "# Ordenação dos valores para encontrar limiar\n",
        "h_7_sorted = h_7.sort_values(['vinhos_diluidos'])"
      ],
      "execution_count": null,
      "outputs": []
    },
    {
      "cell_type": "code",
      "metadata": {
        "colab_type": "code",
        "id": "RMoeQph9QzPA",
        "colab": {
          "base_uri": "https://localhost:8080/",
          "height": 84
        },
        "outputId": "39282c3f-5573-4ad1-f79b-4de6111f5c28"
      },
      "source": [
        "# Mostrando quantidade de valores selecionados que serão usados no cálculo da\n",
        "# entropia\n",
        "y = len(h_7_sorted.loc[(h_7_sorted['vinhos_diluidos'] >= 2.51) &\n",
        "                       (h_7_sorted['classe'] == 1)])\n",
        "print(y)\n",
        "\n",
        "x = len(h_7_sorted.loc[(h_7_sorted['vinhos_diluidos'] < 2.51) &\n",
        "                       (h_7_sorted['classe'] != 1)])\n",
        "print(x)\n",
        "\n",
        "print(178-y)\n",
        "print(178-y-x)"
      ],
      "execution_count": null,
      "outputs": [
        {
          "output_type": "stream",
          "text": [
            "59\n",
            "70\n",
            "119\n",
            "49\n"
          ],
          "name": "stdout"
        }
      ]
    },
    {
      "cell_type": "code",
      "metadata": {
        "colab_type": "code",
        "id": "sxj2X8GuQzPC",
        "colab": {}
      },
      "source": [
        "# Entropia do atributo 'vinhos_diluidos'\n",
        "entropy_vinhos_diluidos = (-(49/119)*math.log(49/119)-(70/119)*math.log(70/119))\n",
        "entropy_vinhos_diluidos = ((119/178)*entropy_vinhos_diluidos)"
      ],
      "execution_count": null,
      "outputs": []
    },
    {
      "cell_type": "code",
      "metadata": {
        "colab_type": "code",
        "id": "p6r952rmQzPD",
        "colab": {
          "base_uri": "https://localhost:8080/",
          "height": 34
        },
        "outputId": "4a3e7cdc-22ab-43de-e86b-fd46c93bd506"
      },
      "source": [
        "entropy_vinhos_diluidos"
      ],
      "execution_count": null,
      "outputs": [
        {
          "output_type": "execute_result",
          "data": {
            "text/plain": [
              "0.45293165241233796"
            ]
          },
          "metadata": {
            "tags": []
          },
          "execution_count": 590
        }
      ]
    },
    {
      "cell_type": "code",
      "metadata": {
        "colab_type": "code",
        "id": "eMx6FJCnU9h2",
        "colab": {}
      },
      "source": [
        "# Separando atributo desejado para cálculo da entropia\n",
        "h_8 = df[['classe', 'fenois_t']]"
      ],
      "execution_count": null,
      "outputs": []
    },
    {
      "cell_type": "code",
      "metadata": {
        "colab_type": "code",
        "id": "mRKCjb9NU9h6",
        "colab": {}
      },
      "source": [
        "# Ordenação dos valores para encontrar limiar\n",
        "h_8_sorted = h_8.sort_values(['fenois_t'])"
      ],
      "execution_count": null,
      "outputs": []
    },
    {
      "cell_type": "code",
      "metadata": {
        "colab_type": "code",
        "id": "9I893CWVZMb2",
        "colab": {
          "base_uri": "https://localhost:8080/",
          "height": 84
        },
        "outputId": "5de2489b-3e52-4c37-f258-6ae131f8ee2d"
      },
      "source": [
        "# Mostrando quantidade de valores selecionados que serão usados no cálculo da\n",
        "# entropia\n",
        "y = len(h_8_sorted.loc[(h_8_sorted['fenois_t'] >= 2.20) &\n",
        "                       (h_8_sorted['classe'] == 1)])\n",
        "print(y)\n",
        "\n",
        "x = len(h_8_sorted.loc[(h_8_sorted['fenois_t'] < 2.2) &\n",
        "                       (h_8_sorted['classe'] != 1)])\n",
        "print(x)\n",
        "\n",
        "print(178-y)\n",
        "print(178-y-x)"
      ],
      "execution_count": null,
      "outputs": [
        {
          "output_type": "stream",
          "text": [
            "59\n",
            "76\n",
            "119\n",
            "43\n"
          ],
          "name": "stdout"
        }
      ]
    },
    {
      "cell_type": "code",
      "metadata": {
        "colab_type": "code",
        "id": "ttVmvkQTZMb6",
        "colab": {}
      },
      "source": [
        "# Entropia do atributo 'fenois_t'\n",
        "entropy_fenois_t = (-(43/119)*math.log(43/119)-(76/119)*math.log(76/119))\n",
        "entropy_fenois_t = ((119/178)*entropy_fenois_t)"
      ],
      "execution_count": null,
      "outputs": []
    },
    {
      "cell_type": "code",
      "metadata": {
        "colab_type": "code",
        "id": "Ta8MlXwmZMb8",
        "colab": {
          "base_uri": "https://localhost:8080/",
          "height": 34
        },
        "outputId": "78851b67-fbe9-4065-a93d-6ec9d73de430"
      },
      "source": [
        "entropy_fenois_t"
      ],
      "execution_count": null,
      "outputs": [
        {
          "output_type": "execute_result",
          "data": {
            "text/plain": [
              "0.4373503193465598"
            ]
          },
          "metadata": {
            "tags": []
          },
          "execution_count": 770
        }
      ]
    },
    {
      "cell_type": "code",
      "metadata": {
        "colab_type": "code",
        "id": "mUbHX-AVB8dS",
        "colab": {}
      },
      "source": [
        "# Separando atributo desejado para cálculo da entropia\n",
        "h_9 = df[['classe', 'proantocianidinas']]"
      ],
      "execution_count": null,
      "outputs": []
    },
    {
      "cell_type": "code",
      "metadata": {
        "colab_type": "code",
        "id": "qgOD5ceKB8dW",
        "colab": {}
      },
      "source": [
        "# Ordenação dos valores para encontrar limiar\n",
        "h_9_sorted = h_9.sort_values(['proantocianidinas'])"
      ],
      "execution_count": null,
      "outputs": []
    },
    {
      "cell_type": "code",
      "metadata": {
        "colab_type": "code",
        "id": "PdV6Ud3EB8da",
        "colab": {
          "base_uri": "https://localhost:8080/",
          "height": 84
        },
        "outputId": "22629ba5-f665-406d-fbc9-b260ec0ed34a"
      },
      "source": [
        "# Mostrando quantidade de valores selecionados que serão usados no cálculo da\n",
        "# entropia\n",
        "y = len(h_9_sorted.loc[(h_9_sorted['proantocianidinas'] > 2.96) |\n",
        "                       (h_9_sorted['proantocianidinas'] < 0.55)])\n",
        "print(y)\n",
        "\n",
        "x = len(h_9_sorted.loc[((h_9_sorted['proantocianidinas'] <= 2.96) &\n",
        "                       (h_9_sorted['classe'] != 2)) | \n",
        "                       ((h_9_sorted['proantocianidinas'] >= 0.55) &\n",
        "                       (h_9_sorted['classe'] != 2)) ])\n",
        "print(x)\n",
        "\n",
        "print(178-y)\n",
        "print(178-y-x)"
      ],
      "execution_count": null,
      "outputs": [
        {
          "output_type": "stream",
          "text": [
            "5\n",
            "107\n",
            "173\n",
            "66\n"
          ],
          "name": "stdout"
        }
      ]
    },
    {
      "cell_type": "code",
      "metadata": {
        "colab_type": "code",
        "id": "o_NJydrBB8dd",
        "colab": {}
      },
      "source": [
        "# Entropia do atributo 'proantocianidinas'\n",
        "entropy_proantocianidinas = (-(66/173)*math.log(66/173)-(107/173)*math.log(107/173))\n",
        "entropy_proantocianidinas = ((173/178)*entropy_proantocianidinas)"
      ],
      "execution_count": null,
      "outputs": []
    },
    {
      "cell_type": "code",
      "metadata": {
        "colab_type": "code",
        "id": "J22rob3gB8de",
        "colab": {
          "base_uri": "https://localhost:8080/",
          "height": 34
        },
        "outputId": "8a4939ae-2ee9-455d-ef47-966ec20b41de"
      },
      "source": [
        "entropy_proantocianidinas"
      ],
      "execution_count": null,
      "outputs": [
        {
          "output_type": "execute_result",
          "data": {
            "text/plain": [
              "0.6461210538592568"
            ]
          },
          "metadata": {
            "tags": []
          },
          "execution_count": 49
        }
      ]
    },
    {
      "cell_type": "code",
      "metadata": {
        "colab_type": "code",
        "id": "xZVxgi8GHmyz",
        "colab": {}
      },
      "source": [
        "# Separando atributo desejado para cálculo da entropia\n",
        "h_10 = df[['classe', 'cinza']]"
      ],
      "execution_count": null,
      "outputs": []
    },
    {
      "cell_type": "code",
      "metadata": {
        "colab_type": "code",
        "id": "6s-eaVTxHmy2",
        "colab": {}
      },
      "source": [
        "# Ordenação dos valores para encontrar limiar\n",
        "h_10_sorted = h_10.sort_values(['cinza'])"
      ],
      "execution_count": null,
      "outputs": []
    },
    {
      "cell_type": "code",
      "metadata": {
        "colab_type": "code",
        "id": "ZQmVHTDVIbjK",
        "colab": {
          "base_uri": "https://localhost:8080/",
          "height": 84
        },
        "outputId": "48122b3b-b5d2-405c-8869-5329c5c06c8e"
      },
      "source": [
        "# Mostrando quantidade de valores selecionados que serão usados no cálculo da\n",
        "# entropia\n",
        "y = len(h_10_sorted.loc[(h_10_sorted['cinza'] < 2.04) &\n",
        "                       (h_10_sorted['classe'] == 2)])\n",
        "print(y)\n",
        "\n",
        "x = len(h_10_sorted.loc[((h_10_sorted['cinza'] >= 2.04) &\n",
        "                       (h_10_sorted['classe'] != 2))])\n",
        "print(x)\n",
        "\n",
        "print(178-y)\n",
        "print(178-y-x)"
      ],
      "execution_count": null,
      "outputs": [
        {
          "output_type": "stream",
          "text": [
            "20\n",
            "107\n",
            "158\n",
            "51\n"
          ],
          "name": "stdout"
        }
      ]
    },
    {
      "cell_type": "code",
      "metadata": {
        "colab_type": "code",
        "id": "Ne5NePgxIbjP",
        "colab": {}
      },
      "source": [
        "# Entropia do atributo 'cinza'\n",
        "entropy_cinza = (-(51/158)*math.log(51/158)-(107/158)*math.log(107/158))\n",
        "entropy_cinza = ((158/178)*entropy_cinza)"
      ],
      "execution_count": null,
      "outputs": []
    },
    {
      "cell_type": "code",
      "metadata": {
        "colab_type": "code",
        "id": "bpfZDrPOIbjR",
        "colab": {
          "base_uri": "https://localhost:8080/",
          "height": 34
        },
        "outputId": "748a9b1a-802f-4756-a96c-9f5c0fe887f7"
      },
      "source": [
        "entropy_cinza"
      ],
      "execution_count": null,
      "outputs": [
        {
          "output_type": "execute_result",
          "data": {
            "text/plain": [
              "0.5582821497859336"
            ]
          },
          "metadata": {
            "tags": []
          },
          "execution_count": 96
        }
      ]
    },
    {
      "cell_type": "code",
      "metadata": {
        "colab_type": "code",
        "id": "KoRwc9oAKDBw",
        "colab": {}
      },
      "source": [
        "# Separando atributo desejado para cálculo da entropia\n",
        "h_11 = df[['classe', 'matriz']]"
      ],
      "execution_count": null,
      "outputs": []
    },
    {
      "cell_type": "code",
      "metadata": {
        "colab_type": "code",
        "id": "SYS45DbCKDBz",
        "colab": {}
      },
      "source": [
        "# Ordenação dos valores para encontrar limiar\n",
        "h_11_sorted = h_11.sort_values(['matriz'])"
      ],
      "execution_count": null,
      "outputs": []
    },
    {
      "cell_type": "code",
      "metadata": {
        "colab_type": "code",
        "id": "qSIuGoMDY5V7",
        "colab": {
          "base_uri": "https://localhost:8080/",
          "height": 84
        },
        "outputId": "2ee809e4-2496-449a-8ca2-a57a31568907"
      },
      "source": [
        "# Mostrando quantidade de valores selecionados que serão usados no cálculo da\n",
        "# entropia\n",
        "y = len(h_11_sorted.loc[(h_11_sorted['matriz'] > 1.28) &\n",
        "                       (h_11_sorted['classe'] == 2) ])\n",
        "print(y)\n",
        "\n",
        "x = len(h_11_sorted.loc[(h_11_sorted['matriz'] <= 1.28) &\n",
        "                       (h_11_sorted['classe'] != 2) ])\n",
        "print(x)\n",
        "\n",
        "print(178-y)\n",
        "print(178-y-x)"
      ],
      "execution_count": null,
      "outputs": [
        {
          "output_type": "stream",
          "text": [
            "9\n",
            "107\n",
            "169\n",
            "62\n"
          ],
          "name": "stdout"
        }
      ]
    },
    {
      "cell_type": "code",
      "metadata": {
        "colab_type": "code",
        "id": "zlzJGN_aY5WD",
        "colab": {}
      },
      "source": [
        "# Entropia do atributo 'matriz'\n",
        "entropy_matriz = (-(62/169)*math.log(62/169)-(107/169)*math.log(107/169))\n",
        "entropy_matriz = ((169/178)*entropy_matriz)"
      ],
      "execution_count": null,
      "outputs": []
    },
    {
      "cell_type": "code",
      "metadata": {
        "colab_type": "code",
        "id": "6laNZZiQY5WH",
        "colab": {
          "base_uri": "https://localhost:8080/",
          "height": 34
        },
        "outputId": "1b9ef5a0-cd28-49a7-9995-088fc90b0f73"
      },
      "source": [
        "entropy_matriz"
      ],
      "execution_count": null,
      "outputs": [
        {
          "output_type": "execute_result",
          "data": {
            "text/plain": [
              "0.6240329531560661"
            ]
          },
          "metadata": {
            "tags": []
          },
          "execution_count": 754
        }
      ]
    },
    {
      "cell_type": "code",
      "metadata": {
        "colab_type": "code",
        "id": "gEikiU69cI44",
        "colab": {
          "base_uri": "https://localhost:8080/",
          "height": 84
        },
        "outputId": "b848364d-5394-4df6-f852-7267a1ee0ef1"
      },
      "source": [
        "# Mostrando quantidade de valores selecionados que serão usados no cálculo da\n",
        "# entropia\n",
        "y = len(h_11_sorted.loc[(h_11_sorted['matriz'] < 0.69) &\n",
        "                       (h_11_sorted['classe'] == 3) ])\n",
        "print(y)\n",
        "\n",
        "x = len(h_11_sorted.loc[(h_11_sorted['matriz'] >= 0.69) &\n",
        "                       (h_11_sorted['classe'] != 3) ])\n",
        "print(x)\n",
        "\n",
        "print(178-y)\n",
        "print(178-y-x)"
      ],
      "execution_count": null,
      "outputs": [
        {
          "output_type": "stream",
          "text": [
            "27\n",
            "130\n",
            "151\n",
            "21\n"
          ],
          "name": "stdout"
        }
      ]
    },
    {
      "cell_type": "code",
      "metadata": {
        "colab_type": "code",
        "id": "Nw3cXIFkcI4-",
        "colab": {}
      },
      "source": [
        "# Entropia do atributo 'matriz'\n",
        "entropy_matriz2 = (-(21/151)*math.log(21/151)-(130/151)*math.log(130/151))\n",
        "entropy_matriz2 = ((151/178)*entropy_matriz2)"
      ],
      "execution_count": null,
      "outputs": []
    },
    {
      "cell_type": "code",
      "metadata": {
        "colab_type": "code",
        "id": "HsaKG1p4cI5F",
        "colab": {
          "base_uri": "https://localhost:8080/",
          "height": 34
        },
        "outputId": "f6ef224f-652a-4760-cdb2-94d7a3abfcd6"
      },
      "source": [
        "entropy_matriz"
      ],
      "execution_count": null,
      "outputs": [
        {
          "output_type": "execute_result",
          "data": {
            "text/plain": [
              "0.6240329531560661"
            ]
          },
          "metadata": {
            "tags": []
          },
          "execution_count": 756
        }
      ]
    },
    {
      "cell_type": "markdown",
      "metadata": {
        "colab_type": "text",
        "id": "Gdc8BsUQBcJd"
      },
      "source": [
        "## **Aplicando Árvore de Decição com método de classificações por exclusividade usando K-Fold (K = 10) todas as interações e média de acuácia**"
      ]
    },
    {
      "cell_type": "code",
      "metadata": {
        "id": "8sl4AcpcCY3M",
        "colab_type": "code",
        "colab": {}
      },
      "source": [
        "# Criação de função para cálculo de acurácia baseado na primeira coluna do\n",
        "# dataframe dos dados originais, onde estão localizados os labels\n",
        "def getAccuracy(testSet, predictions, b):\n",
        "    correct = 0\n",
        "    for x in range(len(testSet)):\n",
        "        if (testSet.loc[b+x, 'classe'] == predictions[x]):\n",
        "            correct += 1\n",
        "    return (correct/float(len(testSet))) * 100.0"
      ],
      "execution_count": null,
      "outputs": []
    },
    {
      "cell_type": "code",
      "metadata": {
        "id": "GztlPbC58U-n",
        "colab_type": "code",
        "colab": {
          "base_uri": "https://localhost:8080/",
          "height": 34
        },
        "outputId": "13b6b0bb-5a5b-4e3d-8c21-fbf5a79b0973"
      },
      "source": [
        "# K-Fold com as 10 interações (grupos de 17 indivíduos)\n",
        "all_accuracy = []\n",
        "for r in range(10):\n",
        "  e = randint(16,177)\n",
        "  b = e - 16\n",
        "\n",
        "  k_lines = df.loc[b:e, :]\n",
        "  label = 0\n",
        "  list_label = []\n",
        "  for i in range(17):\n",
        "    # Seleção de cada indivíduo dentro do grupo atual selecionado pelo K-Fold\n",
        "    one_line = k_lines.loc[b+i, :]\n",
        "\n",
        "    # Fase de rotulação (classificação do label) - Classificação exclusiva\n",
        "    if one_line['prolina'] >= 990:\n",
        "      label = 1\n",
        "    elif one_line['magnesio'] > 132:\n",
        "      label = 2\n",
        "    elif one_line['intensidade_dc'] < 3.52:\n",
        "      label = 2\n",
        "    elif one_line['intensidade_dc'] > 8.9:\n",
        "      label = 3\n",
        "    elif one_line['acido_m'] < 1.24:\n",
        "      label = 2\n",
        "    elif one_line['flavonoides'] < 0.57:\n",
        "      label = 3\n",
        "    elif one_line['proantocianidinas'] > 2.96:\n",
        "      label = 2\n",
        "    elif one_line['proantocianidinas'] < 0.55:\n",
        "      label = 2\n",
        "    elif one_line['cinza'] < 2.04:\n",
        "      label = 2\n",
        "    elif one_line['matriz'] > 1.28:\n",
        "      label = 2\n",
        "    elif one_line['matriz'] < 0.69:\n",
        "      label = 3\n",
        "\n",
        "    # Lista de labels previstos para o grupo selecionado no K-Fold\n",
        "    list_label.append(label)\n",
        "\n",
        "  # Teste de acurácia com labels corretos e labels previstos (classificados)\n",
        "  predictions = list_label\n",
        "  accuracy = getAccuracy(k_lines, predictions, b)\n",
        "  all_accuracy.append(accuracy)\n",
        "  \n",
        "  \n",
        "print(f'Média das acurácias: {int(np.mean(all_accuracy))}%')"
      ],
      "execution_count": null,
      "outputs": [
        {
          "output_type": "stream",
          "text": [
            "Média das acurácias: 100%\n"
          ],
          "name": "stdout"
        }
      ]
    },
    {
      "cell_type": "markdown",
      "metadata": {
        "id": "C6wu3rj_VSk4",
        "colab_type": "text"
      },
      "source": [
        "Nota: Nesse método a classificação é feita por uma condição que é satisfeita e assim é possível rotular o elemento a partir daquela característica que somente sua classe tem. Por isso denominei de \"exclusividade\"."
      ]
    },
    {
      "cell_type": "markdown",
      "metadata": {
        "colab_type": "text",
        "id": "KlIeANBeS1iE"
      },
      "source": [
        "## **Aplicando Árvore de Decição com método de classificações por eliminação usando K-Fold (K = 10) todas as interações e média de acuácia**"
      ]
    },
    {
      "cell_type": "code",
      "metadata": {
        "colab_type": "code",
        "id": "ojgxVqaYSzrs",
        "colab": {}
      },
      "source": [
        "# Criação de função para cálculo de acurácia baseado na primeira coluna do\n",
        "# dataframe dos dados originais, onde estão localizados os labels\n",
        "def getAccuracy(testSet, predictions, b):\n",
        "    correct = 0\n",
        "    for x in range(len(testSet)):\n",
        "        if (testSet.loc[b+x, 'classe'] == predictions[x]):\n",
        "            correct += 1\n",
        "    return (correct/float(len(testSet))) * 100.0"
      ],
      "execution_count": null,
      "outputs": []
    },
    {
      "cell_type": "code",
      "metadata": {
        "colab_type": "code",
        "id": "CcxyhnkIM9qf",
        "colab": {
          "base_uri": "https://localhost:8080/",
          "height": 34
        },
        "outputId": "959bd7f0-c77b-417b-f694-23bcfc0a468d"
      },
      "source": [
        "# K-Fold com as 10 interações (grupos de 17 indivíduos)\n",
        "all_accuracy = []\n",
        "for r in range(10):\n",
        "  e = randint(16,177)\n",
        "  b = e - 16\n",
        "\n",
        "  k_lines = df.loc[b:e, :]\n",
        "  label = 0\n",
        "  list_label = []\n",
        "  for i in range(17):\n",
        "    # Seleção de cada indivíduo dentro do grupo atual selecionado pelo K-Fold\n",
        "    one_line = k_lines.loc[b+i, :]\n",
        "\n",
        "    # Fase de rotulação (classificação do label) - Classificações eliminativa\n",
        "    if one_line['prolina'] >= 990:\n",
        "      label = 1\n",
        "    else:\n",
        "      if one_line['magnesio'] > 132:\n",
        "        label = 2\n",
        "      else:\n",
        "        if one_line['intensidade_dc'] < 3.52:\n",
        "          label = 2\n",
        "        else:\n",
        "          if one_line['intensidade_dc'] > 8.9:\n",
        "            label = 3\n",
        "          else:\n",
        "            if one_line['acido_m'] < 1.24:\n",
        "              label = 2\n",
        "            else:\n",
        "              if one_line['flavonoides'] < 0.57:\n",
        "                label = 3\n",
        "              else:\n",
        "                if one_line['proantocianidinas'] > 2.96:\n",
        "                  label = 2\n",
        "                else:\n",
        "                  if one_line['proantocianidinas'] < 0.55:\n",
        "                    label = 2\n",
        "                  else:\n",
        "                    if one_line['cinza'] < 2.04:\n",
        "                      label = 2\n",
        "                    else:\n",
        "                      if one_line['matriz'] > 1.28:\n",
        "                        label = 2\n",
        "                      else:\n",
        "                        if one_line['matriz'] < 0.69:\n",
        "                          label = 3\n",
        "                        else:\n",
        "                          if one_line['matriz'] > 0.96:\n",
        "                            label = 1\n",
        "                          else:\n",
        "                            if one_line['alcalinidade_dc'] < 17.5:\n",
        "                              label = 1\n",
        "                            else:\n",
        "                              if (one_line['vinhos_diluidos'] >= 2.51) & (one_line['fenois_t'] < 2.20):\n",
        "                                label = 2\n",
        "                              else:\n",
        "                                if (one_line['vinhos_diluidos'] >= 2.51) & (one_line['fenois_t'] >= 2.20):\n",
        "                                  label = 1\n",
        "                                else:\n",
        "                                  label = 3\n",
        "                                  \n",
        "    # Lista de labels previstos para o grupo selecionado no K-Fold\n",
        "    list_label.append(label)\n",
        "\n",
        "  # Teste de acurácia com labels corretos e labels previstos (classificados)\n",
        "  predictions = list_label\n",
        "  accuracy = getAccuracy(k_lines, predictions, b)\n",
        "  all_accuracy.append(accuracy)\n",
        "  \n",
        "  \n",
        "print(f'Média das acurácias: {int(np.mean(all_accuracy))}%')"
      ],
      "execution_count": null,
      "outputs": [
        {
          "output_type": "stream",
          "text": [
            "Média das acurácias: 100%\n"
          ],
          "name": "stdout"
        }
      ]
    },
    {
      "cell_type": "markdown",
      "metadata": {
        "colab_type": "text",
        "id": "QXQJoXVnVvu7"
      },
      "source": [
        "Nota: Já nesse método a classificação pode ser feita por mais de uma condição, por não serem satisfeitas até encontrar uma condição que possa ser encaixada e assim é possível rotular o elemento a partir do possível descarte de uma característica verificada anteriormente. Por isso denominei o método de \"eliminação\"."
      ]
    }
  ]
}